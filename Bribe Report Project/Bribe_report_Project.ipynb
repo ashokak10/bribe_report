{
 "cells": [
  {
   "cell_type": "code",
   "execution_count": null,
   "id": "5b477d62",
   "metadata": {},
   "outputs": [],
   "source": [
    "# Bribe Report Scanner project\n",
    "# ____Problem statement____\n",
    "# Dataset contains information about the bribes taken from public. All the information\n",
    "# in this dataset is submitted by public of India. It contains information about department \n",
    "# which did the corruption, date, location, amount, views of their post and amount \n",
    "# they were forced to give. Analyse the data to find out most bribes paid by city,state,dept.\n",
    "# Max Average & overall bribe taken by the dept. Bride paid by days,weeks and in the years"
   ]
  },
  {
   "cell_type": "code",
   "execution_count": 1,
   "id": "d8cc2e8b",
   "metadata": {},
   "outputs": [],
   "source": [
    "#Importing libraries\n",
    "import numpy as np\n",
    "import pandas as pd\n",
    "import matplotlib.pyplot as plt\n",
    "import seaborn as sns\n",
    "import os\n",
    "%matplotlib inline\n",
    "\n",
    "sns.set_style(\"darkgrid\")\n",
    "import warnings\n",
    "warnings.filterwarnings('ignore')"
   ]
  },
  {
   "cell_type": "code",
   "execution_count": 2,
   "id": "d72eba7c",
   "metadata": {},
   "outputs": [],
   "source": [
    "plt.rcParams[\"font.size\"]=14\n",
    "plt.rcParams['figure.figsize']=(10,6)\n"
   ]
  },
  {
   "cell_type": "code",
   "execution_count": 3,
   "id": "ee3b019c",
   "metadata": {},
   "outputs": [],
   "source": [
    "# Reading the bribe data csv file\n",
    "\n",
    "df1 = pd.read_csv(\"Bribe_report.csv\")"
   ]
  },
  {
   "cell_type": "code",
   "execution_count": 4,
   "id": "09302bc3",
   "metadata": {},
   "outputs": [],
   "source": [
    "# Make a copy to keep the source file unchanged\n",
    "df = df1.copy()"
   ]
  },
  {
   "cell_type": "code",
   "execution_count": null,
   "id": "283a53c5",
   "metadata": {},
   "outputs": [],
   "source": [
    "#About data\n",
    "# Data contains bribes taken by location wise, dept wise, date wise and the total amount paid.\n",
    "# Title explains the brief info about the reason behind the bribe taken\n",
    "# Views gives an insight about how many people viewed the particular bribe data."
   ]
  },
  {
   "cell_type": "code",
   "execution_count": 5,
   "id": "5939c951",
   "metadata": {
    "scrolled": true
   },
   "outputs": [
    {
     "data": {
      "text/html": [
       "<div>\n",
       "<style scoped>\n",
       "    .dataframe tbody tr th:only-of-type {\n",
       "        vertical-align: middle;\n",
       "    }\n",
       "\n",
       "    .dataframe tbody tr th {\n",
       "        vertical-align: top;\n",
       "    }\n",
       "\n",
       "    .dataframe thead th {\n",
       "        text-align: right;\n",
       "    }\n",
       "</style>\n",
       "<table border=\"1\" class=\"dataframe\">\n",
       "  <thead>\n",
       "    <tr style=\"text-align: right;\">\n",
       "      <th></th>\n",
       "      <th>Title</th>\n",
       "      <th>Date</th>\n",
       "      <th>Location</th>\n",
       "      <th>Department</th>\n",
       "      <th>Views</th>\n",
       "      <th>Amount(INR)</th>\n",
       "    </tr>\n",
       "  </thead>\n",
       "  <tbody>\n",
       "    <tr>\n",
       "      <th>0</th>\n",
       "      <td>They said it is registration fee for birth cer...</td>\n",
       "      <td>14-10-20</td>\n",
       "      <td>Bangalore,Karnataka</td>\n",
       "      <td>Births, Family and Care</td>\n",
       "      <td>1225</td>\n",
       "      <td>400</td>\n",
       "    </tr>\n",
       "    <tr>\n",
       "      <th>1</th>\n",
       "      <td>Paid bribe for not having insurance during pan...</td>\n",
       "      <td>13-10-20</td>\n",
       "      <td>Bangalore,Karnataka</td>\n",
       "      <td>Vehicle Insurance</td>\n",
       "      <td>1158</td>\n",
       "      <td>350</td>\n",
       "    </tr>\n",
       "    <tr>\n",
       "      <th>2</th>\n",
       "      <td>Forced to pay bribe at KR Puram RTO</td>\n",
       "      <td>13-10-20</td>\n",
       "      <td>Bangalore,Karnataka</td>\n",
       "      <td>Driving and Transport Business</td>\n",
       "      <td>1249</td>\n",
       "      <td>100</td>\n",
       "    </tr>\n",
       "    <tr>\n",
       "      <th>3</th>\n",
       "      <td>Forced to pay 100 rupees bribe for LL test</td>\n",
       "      <td>13-10-20</td>\n",
       "      <td>Bangalore,Karnataka</td>\n",
       "      <td>Driving Licenses and Tests</td>\n",
       "      <td>1044</td>\n",
       "      <td>100</td>\n",
       "    </tr>\n",
       "    <tr>\n",
       "      <th>4</th>\n",
       "      <td>Misusing of power and traping people in false ...</td>\n",
       "      <td>13-10-20</td>\n",
       "      <td>Siwan,Bihar</td>\n",
       "      <td>FIR and Complaints</td>\n",
       "      <td>1068</td>\n",
       "      <td>15000</td>\n",
       "    </tr>\n",
       "  </tbody>\n",
       "</table>\n",
       "</div>"
      ],
      "text/plain": [
       "                                               Title      Date  \\\n",
       "0  They said it is registration fee for birth cer...  14-10-20   \n",
       "1  Paid bribe for not having insurance during pan...  13-10-20   \n",
       "2                Forced to pay bribe at KR Puram RTO  13-10-20   \n",
       "3         Forced to pay 100 rupees bribe for LL test  13-10-20   \n",
       "4  Misusing of power and traping people in false ...  13-10-20   \n",
       "\n",
       "              Location                      Department  Views  Amount(INR)  \n",
       "0  Bangalore,Karnataka         Births, Family and Care   1225          400  \n",
       "1  Bangalore,Karnataka               Vehicle Insurance   1158          350  \n",
       "2  Bangalore,Karnataka  Driving and Transport Business   1249          100  \n",
       "3  Bangalore,Karnataka      Driving Licenses and Tests   1044          100  \n",
       "4          Siwan,Bihar              FIR and Complaints   1068        15000  "
      ]
     },
     "execution_count": 5,
     "metadata": {},
     "output_type": "execute_result"
    }
   ],
   "source": [
    "# Top 5 records\n",
    "df.head()"
   ]
  },
  {
   "cell_type": "code",
   "execution_count": 6,
   "id": "b5508640",
   "metadata": {},
   "outputs": [
    {
     "name": "stdout",
     "output_type": "stream",
     "text": [
      "<class 'pandas.core.frame.DataFrame'>\n",
      "RangeIndex: 3473 entries, 0 to 3472\n",
      "Data columns (total 6 columns):\n",
      " #   Column       Non-Null Count  Dtype \n",
      "---  ------       --------------  ----- \n",
      " 0   Title        3473 non-null   object\n",
      " 1   Date         3473 non-null   object\n",
      " 2   Location     3473 non-null   object\n",
      " 3   Department   3429 non-null   object\n",
      " 4   Views        3473 non-null   int64 \n",
      " 5   Amount(INR)  3473 non-null   int64 \n",
      "dtypes: int64(2), object(4)\n",
      "memory usage: 162.9+ KB\n"
     ]
    }
   ],
   "source": [
    "#Info about the dataset\n",
    "# 4 object variables and 2 numerical variables\n",
    "# Total 3473 records of data\n",
    "# We have got null values in 1 variable\n",
    "\n",
    "df.info()"
   ]
  },
  {
   "cell_type": "code",
   "execution_count": 7,
   "id": "317bbef2",
   "metadata": {},
   "outputs": [
    {
     "name": "stdout",
     "output_type": "stream",
     "text": [
      "The dataset has 3473 rows and 6 columns\n"
     ]
    }
   ],
   "source": [
    "rows, columns = df.shape\n",
    "print(f'The dataset has {rows} rows and {columns} columns')"
   ]
  },
  {
   "cell_type": "markdown",
   "id": "77564253",
   "metadata": {},
   "source": [
    "## EDA"
   ]
  },
  {
   "cell_type": "code",
   "execution_count": 8,
   "id": "11e9fce5",
   "metadata": {},
   "outputs": [
    {
     "data": {
      "text/plain": [
       "Title           0\n",
       "Date            0\n",
       "Location        0\n",
       "Department     44\n",
       "Views           0\n",
       "Amount(INR)     0\n",
       "dtype: int64"
      ]
     },
     "execution_count": 8,
     "metadata": {},
     "output_type": "execute_result"
    }
   ],
   "source": [
    "#checking null values\n",
    "df.isnull().sum()"
   ]
  },
  {
   "cell_type": "code",
   "execution_count": 9,
   "id": "c589c823",
   "metadata": {},
   "outputs": [
    {
     "data": {
      "text/html": [
       "<div>\n",
       "<style scoped>\n",
       "    .dataframe tbody tr th:only-of-type {\n",
       "        vertical-align: middle;\n",
       "    }\n",
       "\n",
       "    .dataframe tbody tr th {\n",
       "        vertical-align: top;\n",
       "    }\n",
       "\n",
       "    .dataframe thead th {\n",
       "        text-align: right;\n",
       "    }\n",
       "</style>\n",
       "<table border=\"1\" class=\"dataframe\">\n",
       "  <thead>\n",
       "    <tr style=\"text-align: right;\">\n",
       "      <th></th>\n",
       "      <th>Title</th>\n",
       "      <th>Date</th>\n",
       "      <th>Location</th>\n",
       "      <th>Department</th>\n",
       "      <th>Views</th>\n",
       "      <th>Amount(INR)</th>\n",
       "    </tr>\n",
       "  </thead>\n",
       "  <tbody>\n",
       "    <tr>\n",
       "      <th>34</th>\n",
       "      <td>I paid 500rs bribe for passport police verific...</td>\n",
       "      <td>2/10/2020</td>\n",
       "      <td>NewDelhi,Delhi</td>\n",
       "      <td>NaN</td>\n",
       "      <td>1451</td>\n",
       "      <td>500</td>\n",
       "    </tr>\n",
       "    <tr>\n",
       "      <th>38</th>\n",
       "      <td>For clearing papers in survey for SRA</td>\n",
       "      <td>25-09-20</td>\n",
       "      <td>Mumbai,Maharashtra</td>\n",
       "      <td>NaN</td>\n",
       "      <td>1760</td>\n",
       "      <td>500000</td>\n",
       "    </tr>\n",
       "    <tr>\n",
       "      <th>74</th>\n",
       "      <td>I paid 500rs bribe for passport police verific...</td>\n",
       "      <td>2/10/2020</td>\n",
       "      <td>NewDelhi,Delhi</td>\n",
       "      <td>NaN</td>\n",
       "      <td>1451</td>\n",
       "      <td>500</td>\n",
       "    </tr>\n",
       "    <tr>\n",
       "      <th>78</th>\n",
       "      <td>For clearing papers in survey for SRA</td>\n",
       "      <td>25-09-20</td>\n",
       "      <td>Mumbai,Maharashtra</td>\n",
       "      <td>NaN</td>\n",
       "      <td>1760</td>\n",
       "      <td>500000</td>\n",
       "    </tr>\n",
       "    <tr>\n",
       "      <th>144</th>\n",
       "      <td>Bribe taken by pollution office of Raipur (CG)</td>\n",
       "      <td>15-05-20</td>\n",
       "      <td>Raipur,Chhattisgarh</td>\n",
       "      <td>NaN</td>\n",
       "      <td>1565</td>\n",
       "      <td>200000</td>\n",
       "    </tr>\n",
       "  </tbody>\n",
       "</table>\n",
       "</div>"
      ],
      "text/plain": [
       "                                                 Title       Date  \\\n",
       "34   I paid 500rs bribe for passport police verific...  2/10/2020   \n",
       "38               For clearing papers in survey for SRA   25-09-20   \n",
       "74   I paid 500rs bribe for passport police verific...  2/10/2020   \n",
       "78               For clearing papers in survey for SRA   25-09-20   \n",
       "144     Bribe taken by pollution office of Raipur (CG)   15-05-20   \n",
       "\n",
       "                Location Department  Views  Amount(INR)  \n",
       "34        NewDelhi,Delhi        NaN   1451          500  \n",
       "38    Mumbai,Maharashtra        NaN   1760       500000  \n",
       "74        NewDelhi,Delhi        NaN   1451          500  \n",
       "78    Mumbai,Maharashtra        NaN   1760       500000  \n",
       "144  Raipur,Chhattisgarh        NaN   1565       200000  "
      ]
     },
     "execution_count": 9,
     "metadata": {},
     "output_type": "execute_result"
    }
   ],
   "source": [
    "#checking the observations having missing values\n",
    "\n",
    "df[df['Department'].isnull()].head()"
   ]
  },
  {
   "cell_type": "code",
   "execution_count": 10,
   "id": "a286cbcf",
   "metadata": {},
   "outputs": [
    {
     "data": {
      "text/plain": [
       "367"
      ]
     },
     "execution_count": 10,
     "metadata": {},
     "output_type": "execute_result"
    }
   ],
   "source": [
    "# Number of unique departments\n",
    "df['Department'].nunique()"
   ]
  },
  {
   "cell_type": "code",
   "execution_count": 11,
   "id": "aec621c7",
   "metadata": {},
   "outputs": [
    {
     "data": {
      "text/plain": [
       "Others                                    472\n",
       "Police Verification for Passport          266\n",
       "Traffic Violations                        236\n",
       "Birth Certificate                         155\n",
       "Traffic Fines, Penalties, Rules           101\n",
       "                                         ... \n",
       "Inspection of Vehicles after Accidents      1\n",
       "License Renewal                             1\n",
       "Title Deed                                  1\n",
       "Extra Charges                               1\n",
       "Enrolment for Aadhaar Card                  1\n",
       "Name: Department, Length: 367, dtype: int64"
      ]
     },
     "execution_count": 11,
     "metadata": {},
     "output_type": "execute_result"
    }
   ],
   "source": [
    "# Listing the unique departments\n",
    "df['Department'].value_counts()"
   ]
  },
  {
   "cell_type": "code",
   "execution_count": 12,
   "id": "77007ca2",
   "metadata": {},
   "outputs": [],
   "source": [
    "# Impute missing values on department as \"Others\" since multiple values in  departments are others"
   ]
  },
  {
   "cell_type": "code",
   "execution_count": 13,
   "id": "9b260f76",
   "metadata": {},
   "outputs": [],
   "source": [
    "df['Department'].fillna('Others',inplace=True)"
   ]
  },
  {
   "cell_type": "code",
   "execution_count": 14,
   "id": "3e9192d8",
   "metadata": {},
   "outputs": [
    {
     "data": {
      "text/plain": [
       "Title          0\n",
       "Date           0\n",
       "Location       0\n",
       "Department     0\n",
       "Views          0\n",
       "Amount(INR)    0\n",
       "dtype: int64"
      ]
     },
     "execution_count": 14,
     "metadata": {},
     "output_type": "execute_result"
    }
   ],
   "source": [
    "# Cleared null values\n",
    "df.isnull().sum()"
   ]
  },
  {
   "cell_type": "code",
   "execution_count": 15,
   "id": "f69e0a16",
   "metadata": {
    "scrolled": true
   },
   "outputs": [
    {
     "data": {
      "text/plain": [
       "Others                                    516\n",
       "Police Verification for Passport          266\n",
       "Traffic Violations                        236\n",
       "Birth Certificate                         155\n",
       "Traffic Fines, Penalties, Rules           101\n",
       "                                         ... \n",
       "Inspection of Vehicles after Accidents      1\n",
       "License Renewal                             1\n",
       "Title Deed                                  1\n",
       "Extra Charges                               1\n",
       "Enrolment for Aadhaar Card                  1\n",
       "Name: Department, Length: 367, dtype: int64"
      ]
     },
     "execution_count": 15,
     "metadata": {},
     "output_type": "execute_result"
    }
   ],
   "source": [
    "df['Department'].value_counts()"
   ]
  },
  {
   "cell_type": "code",
   "execution_count": 16,
   "id": "ff8634a0",
   "metadata": {},
   "outputs": [
    {
     "data": {
      "text/html": [
       "<div>\n",
       "<style scoped>\n",
       "    .dataframe tbody tr th:only-of-type {\n",
       "        vertical-align: middle;\n",
       "    }\n",
       "\n",
       "    .dataframe tbody tr th {\n",
       "        vertical-align: top;\n",
       "    }\n",
       "\n",
       "    .dataframe thead th {\n",
       "        text-align: right;\n",
       "    }\n",
       "</style>\n",
       "<table border=\"1\" class=\"dataframe\">\n",
       "  <thead>\n",
       "    <tr style=\"text-align: right;\">\n",
       "      <th></th>\n",
       "      <th>Title</th>\n",
       "      <th>Date</th>\n",
       "      <th>Location</th>\n",
       "      <th>Department</th>\n",
       "      <th>Views</th>\n",
       "      <th>Amount(INR)</th>\n",
       "    </tr>\n",
       "  </thead>\n",
       "  <tbody>\n",
       "    <tr>\n",
       "      <th>count</th>\n",
       "      <td>3473</td>\n",
       "      <td>3473</td>\n",
       "      <td>3473</td>\n",
       "      <td>3473</td>\n",
       "      <td>3473.000000</td>\n",
       "      <td>3.473000e+03</td>\n",
       "    </tr>\n",
       "    <tr>\n",
       "      <th>unique</th>\n",
       "      <td>3282</td>\n",
       "      <td>1334</td>\n",
       "      <td>510</td>\n",
       "      <td>367</td>\n",
       "      <td>NaN</td>\n",
       "      <td>NaN</td>\n",
       "    </tr>\n",
       "    <tr>\n",
       "      <th>top</th>\n",
       "      <td>Passport verification</td>\n",
       "      <td>7/11/2015</td>\n",
       "      <td>Bangalore,Karnataka</td>\n",
       "      <td>Others</td>\n",
       "      <td>NaN</td>\n",
       "      <td>NaN</td>\n",
       "    </tr>\n",
       "    <tr>\n",
       "      <th>freq</th>\n",
       "      <td>10</td>\n",
       "      <td>37</td>\n",
       "      <td>769</td>\n",
       "      <td>516</td>\n",
       "      <td>NaN</td>\n",
       "      <td>NaN</td>\n",
       "    </tr>\n",
       "    <tr>\n",
       "      <th>mean</th>\n",
       "      <td>NaN</td>\n",
       "      <td>NaN</td>\n",
       "      <td>NaN</td>\n",
       "      <td>NaN</td>\n",
       "      <td>3379.405701</td>\n",
       "      <td>3.331083e+04</td>\n",
       "    </tr>\n",
       "    <tr>\n",
       "      <th>std</th>\n",
       "      <td>NaN</td>\n",
       "      <td>NaN</td>\n",
       "      <td>NaN</td>\n",
       "      <td>NaN</td>\n",
       "      <td>1540.854884</td>\n",
       "      <td>1.508203e+05</td>\n",
       "    </tr>\n",
       "    <tr>\n",
       "      <th>min</th>\n",
       "      <td>NaN</td>\n",
       "      <td>NaN</td>\n",
       "      <td>NaN</td>\n",
       "      <td>NaN</td>\n",
       "      <td>463.000000</td>\n",
       "      <td>1.000000e+00</td>\n",
       "    </tr>\n",
       "    <tr>\n",
       "      <th>25%</th>\n",
       "      <td>NaN</td>\n",
       "      <td>NaN</td>\n",
       "      <td>NaN</td>\n",
       "      <td>NaN</td>\n",
       "      <td>2081.000000</td>\n",
       "      <td>3.300000e+02</td>\n",
       "    </tr>\n",
       "    <tr>\n",
       "      <th>50%</th>\n",
       "      <td>NaN</td>\n",
       "      <td>NaN</td>\n",
       "      <td>NaN</td>\n",
       "      <td>NaN</td>\n",
       "      <td>3272.000000</td>\n",
       "      <td>1.200000e+03</td>\n",
       "    </tr>\n",
       "    <tr>\n",
       "      <th>75%</th>\n",
       "      <td>NaN</td>\n",
       "      <td>NaN</td>\n",
       "      <td>NaN</td>\n",
       "      <td>NaN</td>\n",
       "      <td>4522.000000</td>\n",
       "      <td>8.000000e+03</td>\n",
       "    </tr>\n",
       "    <tr>\n",
       "      <th>max</th>\n",
       "      <td>NaN</td>\n",
       "      <td>NaN</td>\n",
       "      <td>NaN</td>\n",
       "      <td>NaN</td>\n",
       "      <td>20450.000000</td>\n",
       "      <td>2.185000e+06</td>\n",
       "    </tr>\n",
       "  </tbody>\n",
       "</table>\n",
       "</div>"
      ],
      "text/plain": [
       "                        Title       Date             Location Department  \\\n",
       "count                    3473       3473                 3473       3473   \n",
       "unique                   3282       1334                  510        367   \n",
       "top     Passport verification  7/11/2015  Bangalore,Karnataka     Others   \n",
       "freq                       10         37                  769        516   \n",
       "mean                      NaN        NaN                  NaN        NaN   \n",
       "std                       NaN        NaN                  NaN        NaN   \n",
       "min                       NaN        NaN                  NaN        NaN   \n",
       "25%                       NaN        NaN                  NaN        NaN   \n",
       "50%                       NaN        NaN                  NaN        NaN   \n",
       "75%                       NaN        NaN                  NaN        NaN   \n",
       "max                       NaN        NaN                  NaN        NaN   \n",
       "\n",
       "               Views   Amount(INR)  \n",
       "count    3473.000000  3.473000e+03  \n",
       "unique           NaN           NaN  \n",
       "top              NaN           NaN  \n",
       "freq             NaN           NaN  \n",
       "mean     3379.405701  3.331083e+04  \n",
       "std      1540.854884  1.508203e+05  \n",
       "min       463.000000  1.000000e+00  \n",
       "25%      2081.000000  3.300000e+02  \n",
       "50%      3272.000000  1.200000e+03  \n",
       "75%      4522.000000  8.000000e+03  \n",
       "max     20450.000000  2.185000e+06  "
      ]
     },
     "execution_count": 16,
     "metadata": {},
     "output_type": "execute_result"
    }
   ],
   "source": [
    "# Describing the dataset including categorical variables\n",
    "df.describe(include='all')"
   ]
  },
  {
   "cell_type": "code",
   "execution_count": 17,
   "id": "1ec43c97",
   "metadata": {},
   "outputs": [
    {
     "data": {
      "text/plain": [
       "<AxesSubplot:xlabel='Amount(INR)', ylabel='Count'>"
      ]
     },
     "execution_count": 17,
     "metadata": {},
     "output_type": "execute_result"
    },
    {
     "data": {
      "image/png": "[encoded data removed]",
      "text/plain": [
       "<Figure size 720x432 with 1 Axes>"
      ]
     },
     "metadata": {},
     "output_type": "display_data"
    }
   ],
   "source": [
    "#plot the amount variable to check the highest bribed amount interval\n",
    "\n",
    "sns.histplot(df['Amount(INR)'],kde=True,bins=10)"
   ]
  },
  {
   "cell_type": "code",
   "execution_count": 18,
   "id": "038bc9e4",
   "metadata": {},
   "outputs": [
    {
     "data": {
      "text/plain": [
       "<AxesSubplot:xlabel='Amount(INR)', ylabel='Proportion'>"
      ]
     },
     "execution_count": 18,
     "metadata": {},
     "output_type": "execute_result"
    },
    {
     "data": {
      "image/png": "[encoded data removed]",
      "text/plain": [
       "<Figure size 720x432 with 1 Axes>"
      ]
     },
     "metadata": {},
     "output_type": "display_data"
    }
   ],
   "source": [
    "# Plotting the cumulative amount\n",
    "sns.ecdfplot(df['Amount(INR)'])"
   ]
  },
  {
   "cell_type": "code",
   "execution_count": 19,
   "id": "1ada8062",
   "metadata": {},
   "outputs": [
    {
     "data": {
      "text/plain": [
       "2185000"
      ]
     },
     "execution_count": 19,
     "metadata": {},
     "output_type": "execute_result"
    }
   ],
   "source": [
    "# Maximum bribed amount\n",
    "df['Amount(INR)'].max()"
   ]
  },
  {
   "cell_type": "code",
   "execution_count": 20,
   "id": "4821f8ca",
   "metadata": {},
   "outputs": [
    {
     "data": {
      "text/plain": [
       "45363.200000000084"
      ]
     },
     "execution_count": 20,
     "metadata": {},
     "output_type": "execute_result"
    }
   ],
   "source": [
    "# 90% of amount\n",
    "df['Amount(INR)'].quantile(0.90)"
   ]
  },
  {
   "cell_type": "code",
   "execution_count": 21,
   "id": "074b721c",
   "metadata": {},
   "outputs": [],
   "source": [
    "#Removing outliers\n",
    "#considering bribe less than 0.9 quantile\n",
    "df = df[df['Amount(INR)']<df['Amount(INR)'].quantile(0.9)]"
   ]
  },
  {
   "cell_type": "code",
   "execution_count": 22,
   "id": "7792cd18",
   "metadata": {},
   "outputs": [
    {
     "data": {
      "text/plain": [
       "(3125, 6)"
      ]
     },
     "execution_count": 22,
     "metadata": {},
     "output_type": "execute_result"
    }
   ],
   "source": [
    "df.shape"
   ]
  },
  {
   "cell_type": "code",
   "execution_count": 23,
   "id": "0c1ed712",
   "metadata": {},
   "outputs": [
    {
     "data": {
      "text/plain": [
       "array(['Births, Family and Care', 'Vehicle Insurance',\n",
       "       'Driving and Transport Business', 'Driving Licenses and Tests',\n",
       "       'FIR and Complaints', 'Policies and Procedures', 'Others',\n",
       "       'Police Clearance Certificate', 'Registrations and Licenses',\n",
       "       'Building and Housing', 'Traffic Fines, Penalties, Rules',\n",
       "       'Excise', 'Property Registration', 'Loan Sanctioning',\n",
       "       'Court Related', 'Verification and Certificates', 'Drugs License',\n",
       "       'Visa', 'Khata', 'College Leaving Certificate', 'Tax and Permits',\n",
       "       'Autorickshaws', 'Certificates', 'Caste Certificate',\n",
       "       'Dates for Hearing', 'Aadhaar Card Process', 'Excess Baggage',\n",
       "       'Traffic Violations', 'Bill Payment', 'Water Connection',\n",
       "       'Passport Status and Delivery', 'Land Registration',\n",
       "       'Government Personnel', 'Government Schemes', 'Loans',\n",
       "       'Marriage Certificate and Registration', 'Police Harassment',\n",
       "       'Background Verification', 'Services',\n",
       "       'Change of Tariff in Domestic to Commercial',\n",
       "       'Traveling without Ticket', 'Disability Certificate',\n",
       "       'Pension Processing', 'Entry Tax',\n",
       "       'Number Plates and Vehicle Registration', 'False Allegations',\n",
       "       'Tax', 'Fire License', 'Notary', 'Issue and Renewal of Passport',\n",
       "       'Hospitals and Medical Care', 'Customs Check and Clearance',\n",
       "       'Savings Scheme', 'Customs', 'LPG Gas Cylinder', 'Aadhaar Card',\n",
       "       'Public Works', 'Domestic', 'Filing FIR',\n",
       "       'Money Order and Passbook', 'School or College Related',\n",
       "       'Professional Tax', 'Bills and Payment', 'Food License',\n",
       "       'License for Sale of Drugs', 'Ticket and Seat Related',\n",
       "       'Vehicle Fitness', 'Payment and Arrears',\n",
       "       'Building Construction Approval',\n",
       "       'Telephone and Internet Connection', 'Sales Tax',\n",
       "       'Electricity Connection', 'Police Verification for Passport',\n",
       "       'Duplicate Driving License', 'Pharmacy', 'Income Tax',\n",
       "       'Ration Card', 'Driving licence Process', 'Contract Work',\n",
       "       'Post and Parcel', 'Birth Certificate',\n",
       "       'Protected Forest and Sanctuaries', 'Employee Grievances',\n",
       "       'Service Tax', 'Encumbrance Certificate',\n",
       "       'Fines, Penalties and Rules', 'Transport of Luggage and Goods',\n",
       "       'PAN', 'Health Services', 'Caste, Community and Income',\n",
       "       'Timber Related', 'Commercial and Industrial', 'Transformers',\n",
       "       'Assessment', 'Employee State Insurance', 'Migration Certificate',\n",
       "       'Land Related', 'Health and Family', 'Domicile and Residence',\n",
       "       'Lodging Police Complaint', 'Importer Exporter Code',\n",
       "       'Money Order', 'Business Visa', 'VAT', 'Voter Registration',\n",
       "       'Registration of Property', 'Public Transport',\n",
       "       'Illegal Power Theft', 'Disability Related',\n",
       "       'Religious Institutions', 'Background or Personal Verification',\n",
       "       'Food and Supply', 'Learners License', 'Electric Meters',\n",
       "       'Registration of Flat or Apartment', 'Motor Vehicle Tax',\n",
       "       'Activities on Beat', 'Property Tax', 'Community Certificate',\n",
       "       'Admission to School', 'Khata Transfer',\n",
       "       'Transfer of Residence (TR)', 'IT Clearance Certificate',\n",
       "       'Registration of Partition Deed',\n",
       "       'Travelling in the wrong compartment', 'Ticket Booking',\n",
       "       'Renewal of Passport', 'Attestation', 'Pension Settlement',\n",
       "       'Vehicle Transport Booking', 'For Seeking Relevant Information',\n",
       "       'Registration of Vehicle', 'Passport Delivery',\n",
       "       'Original Marks Card', 'VAT Refund', 'Affidavit',\n",
       "       'Urban Land Ceiling Clearance Certificate', 'Berth Allocation',\n",
       "       'Retrieval of lost items', 'Character Certificate',\n",
       "       'Obtaining Transcripts', 'Change of Tariff',\n",
       "       'Police Investigation', 'Reconnection of Electricity',\n",
       "       '7/12 Extract', 'Registration of House',\n",
       "       'Change or Correction of Name in License',\n",
       "       'Registration of Sale Deed',\n",
       "       'Change of Name in Property documents', 'Marriage Certificate',\n",
       "       'Bribing of Government Officers', 'Demonetisation',\n",
       "       'Patta Document', 'Meter Reading and Checking', 'Crime Incident',\n",
       "       'School or College Related Activities', 'Change of Faulty Meter',\n",
       "       'Income Tax Refund', 'Land or Housing Site Allotment',\n",
       "       'Customs Clearance of Import Shipment', 'Family Certificate',\n",
       "       'Permission to sell Wood', 'Building Completion Certificate',\n",
       "       'Registration of Mortgage Deed', 'Medical Certificate',\n",
       "       'Speed Post', 'Recruitment', 'Restore Power Supply',\n",
       "       'General RTO related', 'Transfer of Property',\n",
       "       'Arrested by Police', 'Railway Police',\n",
       "       'NOC for Transfer of Vehicle Registration', 'Government Hospital',\n",
       "       'Admission to College', 'Garbage Collection', 'C Form',\n",
       "       'Seat Reservation', 'New Passport Application',\n",
       "       'Delivery of Letters and other Post', 'Extra Charges',\n",
       "       'Airport facilities', 'Marriage Registration',\n",
       "       'Transfer of Alloted Sites', 'Housing Plan Approval',\n",
       "       'Advocate or Legal Services', 'Registration of Land',\n",
       "       'Trade License', 'Immigration Check', 'Title Deed', 'House Tax',\n",
       "       'Passport Status Enquiry', 'New Domestic Driving License',\n",
       "       'Death certificate', 'Residence Certificate', 'Provident Fund',\n",
       "       'Change of Address', 'Construction Permit', 'Subversion of norms',\n",
       "       'License Renewal', 'Labour License Renewal', 'Filing Tax Returns',\n",
       "       'New Connection for Houses', 'Adding Name to Ration Card',\n",
       "       'Land Acquisition', 'Change of Address in Driving License',\n",
       "       'Inspection of Vehicles after Accidents',\n",
       "       'Foreigner Registration and Verification', 'Fitness Certificate',\n",
       "       'Check Post', 'Property Tax Assessment', 'Food Supply',\n",
       "       'Khata Certificate', 'New Borewell connection',\n",
       "       'To prevent shutdown of premises',\n",
       "       'Transfer of Vehicle Registration', 'New Khata Certificate',\n",
       "       'Excise Tax Collection', 'Non Availability Certificate',\n",
       "       'New Labour License and Registration', 'Meter Replacement',\n",
       "       'Services like Movement of Poles and Wires', 'Smartcard License',\n",
       "       'License Plate', 'Arms License', 'Sales Tax Payment',\n",
       "       'Residence certificate', 'Reissue of Passport',\n",
       "       'Power of Attorney Registration', 'Emission Check Certificate',\n",
       "       'Partition of Property', 'Pension Transfer',\n",
       "       'Domicile Certificate', 'Register as Principal Employer',\n",
       "       'IT scrutiny', 'Change of Name in Records',\n",
       "       'Electrical Inspection', 'Transformer Maintenance',\n",
       "       'Building Plan Approval',\n",
       "       'Additional power for High Tension installations',\n",
       "       'Meter Transfer', 'Stamp Duty', 'Application for TDR',\n",
       "       'New Company or Business Registration', 'VAT Registration',\n",
       "       'Tax Clearance Certificate', 'Filing Taxes',\n",
       "       'Renewal of Domestic Driving License', 'Salary Related',\n",
       "       'New International Driving License', 'Proof of Export',\n",
       "       'Leave and License Agreement', 'Salary Withdrawal',\n",
       "       'Change of Name in Birth Certificate', 'Cremation',\n",
       "       'Tenant Verification', 'Vehicle Registration Extract',\n",
       "       'Sales Tax Clearance Certificate', 'Services at Station',\n",
       "       'Updating Passport', 'Changes in RC Book', 'Gas Cylinder Supply',\n",
       "       'Liquor License', 'Post Delivery', 'Subversion of Financial Norms',\n",
       "       'Re registration of Vehicle', 'Road Permit',\n",
       "       'Service Tax Registration', 'Aadhaar or UID Related',\n",
       "       'Excess Luggage', 'Filing Petition',\n",
       "       'Fitness Certificate for Vehicles', 'Patient Care',\n",
       "       'Food Safety Licence',\n",
       "       'Repair of Telephone or Internet Connection',\n",
       "       'Land or Building Survey', 'VAT Certificate', 'PAN Card Issues',\n",
       "       'Medical Reimbursement claim', 'Issue of Ration Card', 'TDS',\n",
       "       'PWD Officers', 'Repair of Water and Sewage Connection',\n",
       "       'Reconnection of Disconnected Installations', 'Meter Installation',\n",
       "       'Road Tax', 'Change of Name in Property Documents', 'TTE',\n",
       "       'Railway Parking', 'Confirmation Report',\n",
       "       'Water Connection under Sajala', 'Billing or Invoice Errors',\n",
       "       'Voter ID Card', 'Change of Address in Registration Certificate',\n",
       "       'Transferring Name for Inherited Property',\n",
       "       'Franking of Sale and Construction Agreement', 'Shop Act License',\n",
       "       'Transport of Goods', 'Change or correction of name in bill',\n",
       "       'Service Tax Return', 'Railway Personnel',\n",
       "       'Cleaning Blocked Sewage Line', 'TIN Application and Number',\n",
       "       'Pharmacy Registration and License', 'SSA Related',\n",
       "       'Original Degree Certificate',\n",
       "       'Verification of property documents', 'Export Inspection',\n",
       "       'Survival Certificate', 'Health Certificate',\n",
       "       'Regular Supply of Water', 'Business License Renewal',\n",
       "       'Lost or Damaged Passport', 'Change of Name in Passport',\n",
       "       'ECNR Stamp', 'Attendance', 'Incorrect Bill', 'Platform ticket',\n",
       "       'Temporary Connection', 'RTI Application',\n",
       "       'Shop Establishment License', 'Motor Vehicle Inspection',\n",
       "       'Duplicate PAN Card', 'Transfer Certificate',\n",
       "       'Sales Tax Registration', 'Inspection of Office or Factories',\n",
       "       'Temporary Vehicle Permit', 'Duplicate Registration Certificate',\n",
       "       'Lease Registration', 'Police Protection', 'Nativity Certificate',\n",
       "       'Transfer PF to New Employer', 'New PAN Card',\n",
       "       'Procuring Medical Equipment/Medicines', 'Medical Treatment',\n",
       "       'New internet connection', 'Unfair Legal Proceedings',\n",
       "       'TIN Number', 'Medical Professional',\n",
       "       'WayBill against Imported Goods', 'Regularising Service',\n",
       "       'Transfer of Ration Card', 'Bill or Arrears or Payment',\n",
       "       'Tatkal Passport', 'Change of Tariff in Commercial to Domestic',\n",
       "       'Allowances', 'Commercial Tax Payment',\n",
       "       'Permission to Open School', 'Enrolment for Aadhaar Card'],\n",
       "      dtype=object)"
      ]
     },
     "execution_count": 23,
     "metadata": {},
     "output_type": "execute_result"
    }
   ],
   "source": [
    "#finding the departments \n",
    "df['Department'].unique()"
   ]
  },
  {
   "cell_type": "code",
   "execution_count": 24,
   "id": "b0fb9629",
   "metadata": {},
   "outputs": [
    {
     "data": {
      "text/html": [
       "<div>\n",
       "<style scoped>\n",
       "    .dataframe tbody tr th:only-of-type {\n",
       "        vertical-align: middle;\n",
       "    }\n",
       "\n",
       "    .dataframe tbody tr th {\n",
       "        vertical-align: top;\n",
       "    }\n",
       "\n",
       "    .dataframe thead th {\n",
       "        text-align: right;\n",
       "    }\n",
       "</style>\n",
       "<table border=\"1\" class=\"dataframe\">\n",
       "  <thead>\n",
       "    <tr style=\"text-align: right;\">\n",
       "      <th></th>\n",
       "      <th>Title</th>\n",
       "      <th>Date</th>\n",
       "      <th>Location</th>\n",
       "      <th>Department</th>\n",
       "      <th>Views</th>\n",
       "      <th>Amount(INR)</th>\n",
       "    </tr>\n",
       "  </thead>\n",
       "  <tbody>\n",
       "    <tr>\n",
       "      <th>0</th>\n",
       "      <td>They said it is registration fee for birth cer...</td>\n",
       "      <td>14-10-20</td>\n",
       "      <td>Bangalore,Karnataka</td>\n",
       "      <td>Births, Family and Care</td>\n",
       "      <td>1225</td>\n",
       "      <td>400</td>\n",
       "    </tr>\n",
       "    <tr>\n",
       "      <th>1</th>\n",
       "      <td>Paid bribe for not having insurance during pan...</td>\n",
       "      <td>13-10-20</td>\n",
       "      <td>Bangalore,Karnataka</td>\n",
       "      <td>Vehicle Insurance</td>\n",
       "      <td>1158</td>\n",
       "      <td>350</td>\n",
       "    </tr>\n",
       "    <tr>\n",
       "      <th>2</th>\n",
       "      <td>Forced to pay bribe at KR Puram RTO</td>\n",
       "      <td>13-10-20</td>\n",
       "      <td>Bangalore,Karnataka</td>\n",
       "      <td>Driving and Transport Business</td>\n",
       "      <td>1249</td>\n",
       "      <td>100</td>\n",
       "    </tr>\n",
       "    <tr>\n",
       "      <th>3</th>\n",
       "      <td>Forced to pay 100 rupees bribe for LL test</td>\n",
       "      <td>13-10-20</td>\n",
       "      <td>Bangalore,Karnataka</td>\n",
       "      <td>Driving Licenses and Tests</td>\n",
       "      <td>1044</td>\n",
       "      <td>100</td>\n",
       "    </tr>\n",
       "    <tr>\n",
       "      <th>4</th>\n",
       "      <td>Misusing of power and traping people in false ...</td>\n",
       "      <td>13-10-20</td>\n",
       "      <td>Siwan,Bihar</td>\n",
       "      <td>FIR and Complaints</td>\n",
       "      <td>1068</td>\n",
       "      <td>15000</td>\n",
       "    </tr>\n",
       "  </tbody>\n",
       "</table>\n",
       "</div>"
      ],
      "text/plain": [
       "                                               Title      Date  \\\n",
       "0  They said it is registration fee for birth cer...  14-10-20   \n",
       "1  Paid bribe for not having insurance during pan...  13-10-20   \n",
       "2                Forced to pay bribe at KR Puram RTO  13-10-20   \n",
       "3         Forced to pay 100 rupees bribe for LL test  13-10-20   \n",
       "4  Misusing of power and traping people in false ...  13-10-20   \n",
       "\n",
       "              Location                      Department  Views  Amount(INR)  \n",
       "0  Bangalore,Karnataka         Births, Family and Care   1225          400  \n",
       "1  Bangalore,Karnataka               Vehicle Insurance   1158          350  \n",
       "2  Bangalore,Karnataka  Driving and Transport Business   1249          100  \n",
       "3  Bangalore,Karnataka      Driving Licenses and Tests   1044          100  \n",
       "4          Siwan,Bihar              FIR and Complaints   1068        15000  "
      ]
     },
     "execution_count": 24,
     "metadata": {},
     "output_type": "execute_result"
    }
   ],
   "source": [
    "df.head()"
   ]
  },
  {
   "cell_type": "code",
   "execution_count": 30,
   "id": "c2b9e982",
   "metadata": {},
   "outputs": [],
   "source": [
    "#split location to city & state\n",
    "\n",
    "df[['City','State']]=df['Location'].str.split(',',expand=True)\n"
   ]
  },
  {
   "cell_type": "code",
   "execution_count": 33,
   "id": "dd069ace",
   "metadata": {},
   "outputs": [
    {
     "data": {
      "text/html": [
       "<div>\n",
       "<style scoped>\n",
       "    .dataframe tbody tr th:only-of-type {\n",
       "        vertical-align: middle;\n",
       "    }\n",
       "\n",
       "    .dataframe tbody tr th {\n",
       "        vertical-align: top;\n",
       "    }\n",
       "\n",
       "    .dataframe thead th {\n",
       "        text-align: right;\n",
       "    }\n",
       "</style>\n",
       "<table border=\"1\" class=\"dataframe\">\n",
       "  <thead>\n",
       "    <tr style=\"text-align: right;\">\n",
       "      <th></th>\n",
       "      <th>Title</th>\n",
       "      <th>Date</th>\n",
       "      <th>Location</th>\n",
       "      <th>Department</th>\n",
       "      <th>Views</th>\n",
       "      <th>Amount(INR)</th>\n",
       "      <th>City</th>\n",
       "      <th>State</th>\n",
       "    </tr>\n",
       "  </thead>\n",
       "  <tbody>\n",
       "    <tr>\n",
       "      <th>0</th>\n",
       "      <td>They said it is registration fee for birth cer...</td>\n",
       "      <td>14-10-20</td>\n",
       "      <td>Bangalore,Karnataka</td>\n",
       "      <td>Births, Family and Care</td>\n",
       "      <td>1225</td>\n",
       "      <td>400</td>\n",
       "      <td>Bangalore</td>\n",
       "      <td>Karnataka</td>\n",
       "    </tr>\n",
       "    <tr>\n",
       "      <th>1</th>\n",
       "      <td>Paid bribe for not having insurance during pan...</td>\n",
       "      <td>13-10-20</td>\n",
       "      <td>Bangalore,Karnataka</td>\n",
       "      <td>Vehicle Insurance</td>\n",
       "      <td>1158</td>\n",
       "      <td>350</td>\n",
       "      <td>Bangalore</td>\n",
       "      <td>Karnataka</td>\n",
       "    </tr>\n",
       "    <tr>\n",
       "      <th>2</th>\n",
       "      <td>Forced to pay bribe at KR Puram RTO</td>\n",
       "      <td>13-10-20</td>\n",
       "      <td>Bangalore,Karnataka</td>\n",
       "      <td>Driving and Transport Business</td>\n",
       "      <td>1249</td>\n",
       "      <td>100</td>\n",
       "      <td>Bangalore</td>\n",
       "      <td>Karnataka</td>\n",
       "    </tr>\n",
       "    <tr>\n",
       "      <th>3</th>\n",
       "      <td>Forced to pay 100 rupees bribe for LL test</td>\n",
       "      <td>13-10-20</td>\n",
       "      <td>Bangalore,Karnataka</td>\n",
       "      <td>Driving Licenses and Tests</td>\n",
       "      <td>1044</td>\n",
       "      <td>100</td>\n",
       "      <td>Bangalore</td>\n",
       "      <td>Karnataka</td>\n",
       "    </tr>\n",
       "    <tr>\n",
       "      <th>4</th>\n",
       "      <td>Misusing of power and traping people in false ...</td>\n",
       "      <td>13-10-20</td>\n",
       "      <td>Siwan,Bihar</td>\n",
       "      <td>FIR and Complaints</td>\n",
       "      <td>1068</td>\n",
       "      <td>15000</td>\n",
       "      <td>Siwan</td>\n",
       "      <td>Bihar</td>\n",
       "    </tr>\n",
       "  </tbody>\n",
       "</table>\n",
       "</div>"
      ],
      "text/plain": [
       "                                               Title      Date  \\\n",
       "0  They said it is registration fee for birth cer...  14-10-20   \n",
       "1  Paid bribe for not having insurance during pan...  13-10-20   \n",
       "2                Forced to pay bribe at KR Puram RTO  13-10-20   \n",
       "3         Forced to pay 100 rupees bribe for LL test  13-10-20   \n",
       "4  Misusing of power and traping people in false ...  13-10-20   \n",
       "\n",
       "              Location                      Department  Views  Amount(INR)  \\\n",
       "0  Bangalore,Karnataka         Births, Family and Care   1225          400   \n",
       "1  Bangalore,Karnataka               Vehicle Insurance   1158          350   \n",
       "2  Bangalore,Karnataka  Driving and Transport Business   1249          100   \n",
       "3  Bangalore,Karnataka      Driving Licenses and Tests   1044          100   \n",
       "4          Siwan,Bihar              FIR and Complaints   1068        15000   \n",
       "\n",
       "        City      State  \n",
       "0  Bangalore  Karnataka  \n",
       "1  Bangalore  Karnataka  \n",
       "2  Bangalore  Karnataka  \n",
       "3  Bangalore  Karnataka  \n",
       "4      Siwan      Bihar  "
      ]
     },
     "execution_count": 33,
     "metadata": {},
     "output_type": "execute_result"
    }
   ],
   "source": [
    "df.head()"
   ]
  },
  {
   "cell_type": "code",
   "execution_count": 40,
   "id": "a41e2908",
   "metadata": {},
   "outputs": [],
   "source": [
    "#group rows to find the total amount of bribe in each city\n",
    "most_bribe_area = df.groupby(['City'])['Amount(INR)'].agg(['sum','count']).sort_values('count',ascending=False)"
   ]
  },
  {
   "cell_type": "code",
   "execution_count": 51,
   "id": "258b3a19",
   "metadata": {
    "scrolled": true
   },
   "outputs": [],
   "source": [
    "# setting index values to numbers\n",
    "most_bribe_area.reset_index(inplace=True)"
   ]
  },
  {
   "cell_type": "code",
   "execution_count": 52,
   "id": "2ad07c0e",
   "metadata": {},
   "outputs": [
    {
     "data": {
      "text/plain": [
       "0      Bangalore\n",
       "1       NewDelhi\n",
       "2        Chennai\n",
       "3           Pune\n",
       "4         Mumbai\n",
       "         ...    \n",
       "478      Khordha\n",
       "479      Khammam\n",
       "480      Katpadi\n",
       "481     Kashipur\n",
       "482     Yellandu\n",
       "Name: City, Length: 483, dtype: object"
      ]
     },
     "execution_count": 52,
     "metadata": {},
     "output_type": "execute_result"
    }
   ],
   "source": [
    "most_bribe_area['City']"
   ]
  },
  {
   "cell_type": "code",
   "execution_count": 53,
   "id": "eb2c9023",
   "metadata": {},
   "outputs": [
    {
     "data": {
      "text/plain": [
       "<AxesSubplot:xlabel='count', ylabel='City'>"
      ]
     },
     "execution_count": 53,
     "metadata": {},
     "output_type": "execute_result"
    },
    {
     "data": {
      "image/png": "[encoded data removed]",
      "text/plain": [
       "<Figure size 720x432 with 1 Axes>"
      ]
     },
     "metadata": {},
     "output_type": "display_data"
    }
   ],
   "source": [
    "# Plotting the top 10 cities where most bribes paid\n",
    "\n",
    "sns.barplot(y=most_bribe_area['City'].head(10),x=most_bribe_area['count'])"
   ]
  },
  {
   "cell_type": "code",
   "execution_count": 54,
   "id": "4aa98a83",
   "metadata": {},
   "outputs": [],
   "source": [
    "#group rows to find the total amount of bribe in each state\n",
    "\n",
    "most_bribe_state = df.groupby(['State'])['Amount(INR)'].agg(['count','sum']).sort_values('count',ascending=False)"
   ]
  },
  {
   "cell_type": "code",
   "execution_count": 55,
   "id": "b09f9008",
   "metadata": {},
   "outputs": [],
   "source": [
    "# setting index values to numbers\n",
    "most_bribe_state.reset_index(inplace=True)"
   ]
  },
  {
   "cell_type": "code",
   "execution_count": 56,
   "id": "f0001d42",
   "metadata": {},
   "outputs": [
    {
     "data": {
      "text/html": [
       "<div>\n",
       "<style scoped>\n",
       "    .dataframe tbody tr th:only-of-type {\n",
       "        vertical-align: middle;\n",
       "    }\n",
       "\n",
       "    .dataframe tbody tr th {\n",
       "        vertical-align: top;\n",
       "    }\n",
       "\n",
       "    .dataframe thead th {\n",
       "        text-align: right;\n",
       "    }\n",
       "</style>\n",
       "<table border=\"1\" class=\"dataframe\">\n",
       "  <thead>\n",
       "    <tr style=\"text-align: right;\">\n",
       "      <th></th>\n",
       "      <th>State</th>\n",
       "      <th>count</th>\n",
       "      <th>sum</th>\n",
       "    </tr>\n",
       "  </thead>\n",
       "  <tbody>\n",
       "    <tr>\n",
       "      <th>0</th>\n",
       "      <td>Karnataka</td>\n",
       "      <td>838</td>\n",
       "      <td>4124357</td>\n",
       "    </tr>\n",
       "    <tr>\n",
       "      <th>1</th>\n",
       "      <td>UttarPradesh</td>\n",
       "      <td>357</td>\n",
       "      <td>1170341</td>\n",
       "    </tr>\n",
       "    <tr>\n",
       "      <th>2</th>\n",
       "      <td>Maharashtra</td>\n",
       "      <td>350</td>\n",
       "      <td>1454076</td>\n",
       "    </tr>\n",
       "    <tr>\n",
       "      <th>3</th>\n",
       "      <td>TamilNadu</td>\n",
       "      <td>299</td>\n",
       "      <td>1335778</td>\n",
       "    </tr>\n",
       "    <tr>\n",
       "      <th>4</th>\n",
       "      <td>Delhi</td>\n",
       "      <td>210</td>\n",
       "      <td>626320</td>\n",
       "    </tr>\n",
       "  </tbody>\n",
       "</table>\n",
       "</div>"
      ],
      "text/plain": [
       "          State  count      sum\n",
       "0     Karnataka    838  4124357\n",
       "1  UttarPradesh    357  1170341\n",
       "2   Maharashtra    350  1454076\n",
       "3     TamilNadu    299  1335778\n",
       "4         Delhi    210   626320"
      ]
     },
     "execution_count": 56,
     "metadata": {},
     "output_type": "execute_result"
    }
   ],
   "source": [
    "most_bribe_state.head(5)"
   ]
  },
  {
   "cell_type": "code",
   "execution_count": 57,
   "id": "1fcf5fcb",
   "metadata": {},
   "outputs": [
    {
     "data": {
      "text/plain": [
       "<AxesSubplot:xlabel='count', ylabel='State'>"
      ]
     },
     "execution_count": 57,
     "metadata": {},
     "output_type": "execute_result"
    },
    {
     "data": {
      "image/png": "[encoded data removed]",
      "text/plain": [
       "<Figure size 720x432 with 1 Axes>"
      ]
     },
     "metadata": {},
     "output_type": "display_data"
    }
   ],
   "source": [
    "# Plotting the top 10 states where most bribes paid\n",
    "\n",
    "sns.barplot(y=most_bribe_state['State'].head(10),x=most_bribe_state['count'])"
   ]
  },
  {
   "cell_type": "code",
   "execution_count": 67,
   "id": "7cd4258e",
   "metadata": {},
   "outputs": [],
   "source": [
    "#group rows to find the total amount of bribe in each dept\n",
    "\n",
    "most_bribe_dept = df.groupby(['Department'])['Amount(INR)'].agg(['count','sum']).sort_values('count',ascending=False)"
   ]
  },
  {
   "cell_type": "code",
   "execution_count": 68,
   "id": "66644a3f",
   "metadata": {},
   "outputs": [
    {
     "data": {
      "text/html": [
       "<div>\n",
       "<style scoped>\n",
       "    .dataframe tbody tr th:only-of-type {\n",
       "        vertical-align: middle;\n",
       "    }\n",
       "\n",
       "    .dataframe tbody tr th {\n",
       "        vertical-align: top;\n",
       "    }\n",
       "\n",
       "    .dataframe thead th {\n",
       "        text-align: right;\n",
       "    }\n",
       "</style>\n",
       "<table border=\"1\" class=\"dataframe\">\n",
       "  <thead>\n",
       "    <tr style=\"text-align: right;\">\n",
       "      <th></th>\n",
       "      <th>Department</th>\n",
       "      <th>count</th>\n",
       "      <th>sum</th>\n",
       "    </tr>\n",
       "  </thead>\n",
       "  <tbody>\n",
       "    <tr>\n",
       "      <th>0</th>\n",
       "      <td>Others</td>\n",
       "      <td>477</td>\n",
       "      <td>1787443</td>\n",
       "    </tr>\n",
       "    <tr>\n",
       "      <th>1</th>\n",
       "      <td>Police Verification for Passport</td>\n",
       "      <td>264</td>\n",
       "      <td>242827</td>\n",
       "    </tr>\n",
       "    <tr>\n",
       "      <th>2</th>\n",
       "      <td>Traffic Violations</td>\n",
       "      <td>236</td>\n",
       "      <td>189459</td>\n",
       "    </tr>\n",
       "    <tr>\n",
       "      <th>3</th>\n",
       "      <td>Birth Certificate</td>\n",
       "      <td>144</td>\n",
       "      <td>232212</td>\n",
       "    </tr>\n",
       "    <tr>\n",
       "      <th>4</th>\n",
       "      <td>Traffic Fines, Penalties, Rules</td>\n",
       "      <td>101</td>\n",
       "      <td>141369</td>\n",
       "    </tr>\n",
       "    <tr>\n",
       "      <th>...</th>\n",
       "      <td>...</td>\n",
       "      <td>...</td>\n",
       "      <td>...</td>\n",
       "    </tr>\n",
       "    <tr>\n",
       "      <th>344</th>\n",
       "      <td>Aadhaar Card</td>\n",
       "      <td>1</td>\n",
       "      <td>500</td>\n",
       "    </tr>\n",
       "    <tr>\n",
       "      <th>345</th>\n",
       "      <td>Migration Certificate</td>\n",
       "      <td>1</td>\n",
       "      <td>40000</td>\n",
       "    </tr>\n",
       "    <tr>\n",
       "      <th>346</th>\n",
       "      <td>Money Order and Passbook</td>\n",
       "      <td>1</td>\n",
       "      <td>1000</td>\n",
       "    </tr>\n",
       "    <tr>\n",
       "      <th>347</th>\n",
       "      <td>Motor Vehicle Inspection</td>\n",
       "      <td>1</td>\n",
       "      <td>3500</td>\n",
       "    </tr>\n",
       "    <tr>\n",
       "      <th>348</th>\n",
       "      <td>WayBill against Imported Goods</td>\n",
       "      <td>1</td>\n",
       "      <td>100</td>\n",
       "    </tr>\n",
       "  </tbody>\n",
       "</table>\n",
       "<p>349 rows × 3 columns</p>\n",
       "</div>"
      ],
      "text/plain": [
       "                           Department  count      sum\n",
       "0                              Others    477  1787443\n",
       "1    Police Verification for Passport    264   242827\n",
       "2                  Traffic Violations    236   189459\n",
       "3                   Birth Certificate    144   232212\n",
       "4     Traffic Fines, Penalties, Rules    101   141369\n",
       "..                                ...    ...      ...\n",
       "344                      Aadhaar Card      1      500\n",
       "345             Migration Certificate      1    40000\n",
       "346          Money Order and Passbook      1     1000\n",
       "347          Motor Vehicle Inspection      1     3500\n",
       "348    WayBill against Imported Goods      1      100\n",
       "\n",
       "[349 rows x 3 columns]"
      ]
     },
     "execution_count": 68,
     "metadata": {},
     "output_type": "execute_result"
    }
   ],
   "source": [
    "# setting index values to numbers\n",
    "most_bribe_dept.reset_index(inplace=True)\n",
    "most_bribe_dept"
   ]
  },
  {
   "cell_type": "code",
   "execution_count": 69,
   "id": "01e85d00",
   "metadata": {},
   "outputs": [
    {
     "data": {
      "text/plain": [
       "<AxesSubplot:xlabel='count', ylabel='Department'>"
      ]
     },
     "execution_count": 69,
     "metadata": {},
     "output_type": "execute_result"
    },
    {
     "data": {
      "image/png": "[encoded data removed]",
      "text/plain": [
       "<Figure size 720x432 with 1 Axes>"
      ]
     },
     "metadata": {},
     "output_type": "display_data"
    }
   ],
   "source": [
    "# Plotting the top 10 departments where most bribes paid\n",
    "sns.barplot(x = most_bribe_dept['count'],y = most_bribe_dept['Department'].head(10))"
   ]
  },
  {
   "cell_type": "code",
   "execution_count": 70,
   "id": "bbe51663",
   "metadata": {},
   "outputs": [],
   "source": [
    "#group rows to find the avergae and overall amount of bribe in each dept\n",
    "\n",
    "most_bribe_dept_mean = df.groupby(['Department'])['Amount(INR)'].agg(['mean','sum']).sort_values('mean',ascending=False)"
   ]
  },
  {
   "cell_type": "code",
   "execution_count": 73,
   "id": "8936810a",
   "metadata": {},
   "outputs": [],
   "source": [
    "most_bribe_dept_mean.reset_index(inplace=True)"
   ]
  },
  {
   "cell_type": "code",
   "execution_count": 74,
   "id": "3d08dbd7",
   "metadata": {},
   "outputs": [
    {
     "data": {
      "text/plain": [
       "<AxesSubplot:xlabel='mean', ylabel='Department'>"
      ]
     },
     "execution_count": 74,
     "metadata": {},
     "output_type": "execute_result"
    },
    {
     "data": {
      "image/png": "[encoded data removed]",
      "text/plain": [
       "<Figure size 720x432 with 1 Axes>"
      ]
     },
     "metadata": {},
     "output_type": "display_data"
    }
   ],
   "source": [
    "# Plotting the top 10 departments where most bribes paid on an average\n",
    "sns.barplot(x = most_bribe_dept_mean['mean'],y = most_bribe_dept_mean['Department'].head(10))"
   ]
  },
  {
   "cell_type": "code",
   "execution_count": 75,
   "id": "5e73ad68",
   "metadata": {},
   "outputs": [],
   "source": [
    "# Converting object datatype to date time datatype\n",
    "df['Date'] = pd.to_datetime(df['Date'])"
   ]
  },
  {
   "cell_type": "code",
   "execution_count": 76,
   "id": "80736cec",
   "metadata": {},
   "outputs": [],
   "source": [
    "# New dataframe with only amount and dates\n",
    "df_day = df[['Date','Amount(INR)']]"
   ]
  },
  {
   "cell_type": "code",
   "execution_count": 78,
   "id": "3835ca54",
   "metadata": {
    "scrolled": true
   },
   "outputs": [
    {
     "data": {
      "text/html": [
       "<div>\n",
       "<style scoped>\n",
       "    .dataframe tbody tr th:only-of-type {\n",
       "        vertical-align: middle;\n",
       "    }\n",
       "\n",
       "    .dataframe tbody tr th {\n",
       "        vertical-align: top;\n",
       "    }\n",
       "\n",
       "    .dataframe thead th {\n",
       "        text-align: right;\n",
       "    }\n",
       "</style>\n",
       "<table border=\"1\" class=\"dataframe\">\n",
       "  <thead>\n",
       "    <tr style=\"text-align: right;\">\n",
       "      <th></th>\n",
       "      <th>Date</th>\n",
       "      <th>Amount(INR)</th>\n",
       "    </tr>\n",
       "  </thead>\n",
       "  <tbody>\n",
       "    <tr>\n",
       "      <th>0</th>\n",
       "      <td>2020-10-14</td>\n",
       "      <td>400</td>\n",
       "    </tr>\n",
       "    <tr>\n",
       "      <th>1</th>\n",
       "      <td>2020-10-13</td>\n",
       "      <td>350</td>\n",
       "    </tr>\n",
       "    <tr>\n",
       "      <th>2</th>\n",
       "      <td>2020-10-13</td>\n",
       "      <td>100</td>\n",
       "    </tr>\n",
       "    <tr>\n",
       "      <th>3</th>\n",
       "      <td>2020-10-13</td>\n",
       "      <td>100</td>\n",
       "    </tr>\n",
       "    <tr>\n",
       "      <th>4</th>\n",
       "      <td>2020-10-13</td>\n",
       "      <td>15000</td>\n",
       "    </tr>\n",
       "  </tbody>\n",
       "</table>\n",
       "</div>"
      ],
      "text/plain": [
       "        Date  Amount(INR)\n",
       "0 2020-10-14          400\n",
       "1 2020-10-13          350\n",
       "2 2020-10-13          100\n",
       "3 2020-10-13          100\n",
       "4 2020-10-13        15000"
      ]
     },
     "execution_count": 78,
     "metadata": {},
     "output_type": "execute_result"
    }
   ],
   "source": [
    "df_day.head()"
   ]
  },
  {
   "cell_type": "code",
   "execution_count": 79,
   "id": "931e0a93",
   "metadata": {},
   "outputs": [],
   "source": [
    "import datetime as dt"
   ]
  },
  {
   "cell_type": "code",
   "execution_count": 80,
   "id": "d1adf2e4",
   "metadata": {},
   "outputs": [],
   "source": [
    "# Extract the info from datetime data\n",
    "df_day['Day'] = df_day['Date'].dt.day\n",
    "df_day['Month'] = df_day['Date'].dt.month"
   ]
  },
  {
   "cell_type": "code",
   "execution_count": 117,
   "id": "0f952c1c",
   "metadata": {},
   "outputs": [],
   "source": [
    "df_day['Year'] = df_day['Date'].dt.year\n",
    "df_day['Day_Name'] = df_day['Date'].dt.day_name()"
   ]
  },
  {
   "cell_type": "code",
   "execution_count": 118,
   "id": "776c128c",
   "metadata": {},
   "outputs": [
    {
     "data": {
      "text/plain": [
       "'\\ndt.day_name()\\ndt.week\\ndt.dayofweek\\ndt.year\\ndt.month\\ndt.quarter\\n'"
      ]
     },
     "execution_count": 118,
     "metadata": {},
     "output_type": "execute_result"
    }
   ],
   "source": [
    "\"\"\"\n",
    "dt.day_name()\n",
    "dt.week\n",
    "dt.dayofweek\n",
    "dt.year\n",
    "dt.month\n",
    "dt.quarter\n",
    "\"\"\""
   ]
  },
  {
   "cell_type": "code",
   "execution_count": 119,
   "id": "3e30f51e",
   "metadata": {
    "scrolled": true
   },
   "outputs": [
    {
     "data": {
      "text/html": [
       "<div>\n",
       "<style scoped>\n",
       "    .dataframe tbody tr th:only-of-type {\n",
       "        vertical-align: middle;\n",
       "    }\n",
       "\n",
       "    .dataframe tbody tr th {\n",
       "        vertical-align: top;\n",
       "    }\n",
       "\n",
       "    .dataframe thead th {\n",
       "        text-align: right;\n",
       "    }\n",
       "</style>\n",
       "<table border=\"1\" class=\"dataframe\">\n",
       "  <thead>\n",
       "    <tr style=\"text-align: right;\">\n",
       "      <th></th>\n",
       "      <th>Date</th>\n",
       "      <th>Amount(INR)</th>\n",
       "      <th>Day</th>\n",
       "      <th>Month</th>\n",
       "      <th>Year</th>\n",
       "      <th>Day_Name</th>\n",
       "    </tr>\n",
       "  </thead>\n",
       "  <tbody>\n",
       "    <tr>\n",
       "      <th>0</th>\n",
       "      <td>2020-10-14</td>\n",
       "      <td>400</td>\n",
       "      <td>14</td>\n",
       "      <td>10</td>\n",
       "      <td>2020</td>\n",
       "      <td>Wednesday</td>\n",
       "    </tr>\n",
       "    <tr>\n",
       "      <th>1</th>\n",
       "      <td>2020-10-13</td>\n",
       "      <td>350</td>\n",
       "      <td>13</td>\n",
       "      <td>10</td>\n",
       "      <td>2020</td>\n",
       "      <td>Tuesday</td>\n",
       "    </tr>\n",
       "    <tr>\n",
       "      <th>2</th>\n",
       "      <td>2020-10-13</td>\n",
       "      <td>100</td>\n",
       "      <td>13</td>\n",
       "      <td>10</td>\n",
       "      <td>2020</td>\n",
       "      <td>Tuesday</td>\n",
       "    </tr>\n",
       "    <tr>\n",
       "      <th>3</th>\n",
       "      <td>2020-10-13</td>\n",
       "      <td>100</td>\n",
       "      <td>13</td>\n",
       "      <td>10</td>\n",
       "      <td>2020</td>\n",
       "      <td>Tuesday</td>\n",
       "    </tr>\n",
       "    <tr>\n",
       "      <th>4</th>\n",
       "      <td>2020-10-13</td>\n",
       "      <td>15000</td>\n",
       "      <td>13</td>\n",
       "      <td>10</td>\n",
       "      <td>2020</td>\n",
       "      <td>Tuesday</td>\n",
       "    </tr>\n",
       "    <tr>\n",
       "      <th>5</th>\n",
       "      <td>2020-10-13</td>\n",
       "      <td>15000</td>\n",
       "      <td>13</td>\n",
       "      <td>10</td>\n",
       "      <td>2020</td>\n",
       "      <td>Tuesday</td>\n",
       "    </tr>\n",
       "    <tr>\n",
       "      <th>6</th>\n",
       "      <td>2020-10-10</td>\n",
       "      <td>5000</td>\n",
       "      <td>10</td>\n",
       "      <td>10</td>\n",
       "      <td>2020</td>\n",
       "      <td>Saturday</td>\n",
       "    </tr>\n",
       "    <tr>\n",
       "      <th>7</th>\n",
       "      <td>2020-10-10</td>\n",
       "      <td>500</td>\n",
       "      <td>10</td>\n",
       "      <td>10</td>\n",
       "      <td>2020</td>\n",
       "      <td>Saturday</td>\n",
       "    </tr>\n",
       "    <tr>\n",
       "      <th>8</th>\n",
       "      <td>2020-09-10</td>\n",
       "      <td>2500</td>\n",
       "      <td>10</td>\n",
       "      <td>9</td>\n",
       "      <td>2020</td>\n",
       "      <td>Thursday</td>\n",
       "    </tr>\n",
       "    <tr>\n",
       "      <th>9</th>\n",
       "      <td>2020-06-10</td>\n",
       "      <td>4000</td>\n",
       "      <td>10</td>\n",
       "      <td>6</td>\n",
       "      <td>2020</td>\n",
       "      <td>Wednesday</td>\n",
       "    </tr>\n",
       "  </tbody>\n",
       "</table>\n",
       "</div>"
      ],
      "text/plain": [
       "        Date  Amount(INR)  Day  Month  Year   Day_Name\n",
       "0 2020-10-14          400   14     10  2020  Wednesday\n",
       "1 2020-10-13          350   13     10  2020    Tuesday\n",
       "2 2020-10-13          100   13     10  2020    Tuesday\n",
       "3 2020-10-13          100   13     10  2020    Tuesday\n",
       "4 2020-10-13        15000   13     10  2020    Tuesday\n",
       "5 2020-10-13        15000   13     10  2020    Tuesday\n",
       "6 2020-10-10         5000   10     10  2020   Saturday\n",
       "7 2020-10-10          500   10     10  2020   Saturday\n",
       "8 2020-09-10         2500   10      9  2020   Thursday\n",
       "9 2020-06-10         4000   10      6  2020  Wednesday"
      ]
     },
     "execution_count": 119,
     "metadata": {},
     "output_type": "execute_result"
    }
   ],
   "source": [
    "df_day.head(10)"
   ]
  },
  {
   "cell_type": "code",
   "execution_count": 93,
   "id": "8a0c5e95",
   "metadata": {},
   "outputs": [],
   "source": [
    "#group rows to find the amount of bribe each day\n",
    "\n",
    "most_bribe_amount_days = df_day.groupby('Day')['Amount(INR)'].agg(['count','sum']).sort_values('sum',ascending =False)\n"
   ]
  },
  {
   "cell_type": "code",
   "execution_count": 97,
   "id": "b4452ab5",
   "metadata": {},
   "outputs": [],
   "source": [
    "most_bribe_amount_days.reset_index(inplace=True)"
   ]
  },
  {
   "cell_type": "code",
   "execution_count": 101,
   "id": "0b57ac48",
   "metadata": {},
   "outputs": [
    {
     "data": {
      "text/html": [
       "<div>\n",
       "<style scoped>\n",
       "    .dataframe tbody tr th:only-of-type {\n",
       "        vertical-align: middle;\n",
       "    }\n",
       "\n",
       "    .dataframe tbody tr th {\n",
       "        vertical-align: top;\n",
       "    }\n",
       "\n",
       "    .dataframe thead th {\n",
       "        text-align: right;\n",
       "    }\n",
       "</style>\n",
       "<table border=\"1\" class=\"dataframe\">\n",
       "  <thead>\n",
       "    <tr style=\"text-align: right;\">\n",
       "      <th></th>\n",
       "      <th>Day</th>\n",
       "      <th>count</th>\n",
       "      <th>sum</th>\n",
       "    </tr>\n",
       "  </thead>\n",
       "  <tbody>\n",
       "    <tr>\n",
       "      <th>0</th>\n",
       "      <td>11</td>\n",
       "      <td>224</td>\n",
       "      <td>751450</td>\n",
       "    </tr>\n",
       "    <tr>\n",
       "      <th>1</th>\n",
       "      <td>12</td>\n",
       "      <td>100</td>\n",
       "      <td>619575</td>\n",
       "    </tr>\n",
       "    <tr>\n",
       "      <th>2</th>\n",
       "      <td>25</td>\n",
       "      <td>108</td>\n",
       "      <td>602779</td>\n",
       "    </tr>\n",
       "    <tr>\n",
       "      <th>3</th>\n",
       "      <td>9</td>\n",
       "      <td>91</td>\n",
       "      <td>536490</td>\n",
       "    </tr>\n",
       "    <tr>\n",
       "      <th>4</th>\n",
       "      <td>27</td>\n",
       "      <td>115</td>\n",
       "      <td>492519</td>\n",
       "    </tr>\n",
       "  </tbody>\n",
       "</table>\n",
       "</div>"
      ],
      "text/plain": [
       "   Day  count     sum\n",
       "0   11    224  751450\n",
       "1   12    100  619575\n",
       "2   25    108  602779\n",
       "3    9     91  536490\n",
       "4   27    115  492519"
      ]
     },
     "execution_count": 101,
     "metadata": {},
     "output_type": "execute_result"
    }
   ],
   "source": [
    "most_bribe_amount_days.head()\n"
   ]
  },
  {
   "cell_type": "code",
   "execution_count": 112,
   "id": "139b92eb",
   "metadata": {},
   "outputs": [
    {
     "data": {
      "text/plain": [
       "<AxesSubplot:xlabel='Day', ylabel='sum'>"
      ]
     },
     "execution_count": 112,
     "metadata": {},
     "output_type": "execute_result"
    },
    {
     "data": {
      "image/png": "[encoded data removed]",
      "text/plain": [
       "<Figure size 720x432 with 1 Axes>"
      ]
     },
     "metadata": {},
     "output_type": "display_data"
    }
   ],
   "source": [
    "# Plotting bribe amount paid on all days of the month \n",
    "\n",
    "sns.barplot(y = most_bribe_amount_days['sum'],x=most_bribe_amount_days['Day'])"
   ]
  },
  {
   "cell_type": "code",
   "execution_count": 120,
   "id": "622d1a1d",
   "metadata": {},
   "outputs": [],
   "source": [
    "#group rows to find the amount of bribe on each days of week\n",
    "\n",
    "most_bribe_amount_days_week = df_day.groupby('Day_Name')['Amount(INR)'].agg(['count','sum']).sort_values('sum',ascending =False)\n"
   ]
  },
  {
   "cell_type": "code",
   "execution_count": 121,
   "id": "6dedb4cc",
   "metadata": {},
   "outputs": [],
   "source": [
    "most_bribe_amount_days_week.reset_index(inplace=True)"
   ]
  },
  {
   "cell_type": "code",
   "execution_count": 122,
   "id": "a0e010b3",
   "metadata": {},
   "outputs": [
    {
     "data": {
      "text/html": [
       "<div>\n",
       "<style scoped>\n",
       "    .dataframe tbody tr th:only-of-type {\n",
       "        vertical-align: middle;\n",
       "    }\n",
       "\n",
       "    .dataframe tbody tr th {\n",
       "        vertical-align: top;\n",
       "    }\n",
       "\n",
       "    .dataframe thead th {\n",
       "        text-align: right;\n",
       "    }\n",
       "</style>\n",
       "<table border=\"1\" class=\"dataframe\">\n",
       "  <thead>\n",
       "    <tr style=\"text-align: right;\">\n",
       "      <th></th>\n",
       "      <th>Day_Name</th>\n",
       "      <th>count</th>\n",
       "      <th>sum</th>\n",
       "    </tr>\n",
       "  </thead>\n",
       "  <tbody>\n",
       "    <tr>\n",
       "      <th>0</th>\n",
       "      <td>Tuesday</td>\n",
       "      <td>520</td>\n",
       "      <td>2125361</td>\n",
       "    </tr>\n",
       "    <tr>\n",
       "      <th>1</th>\n",
       "      <td>Wednesday</td>\n",
       "      <td>513</td>\n",
       "      <td>1981031</td>\n",
       "    </tr>\n",
       "    <tr>\n",
       "      <th>2</th>\n",
       "      <td>Friday</td>\n",
       "      <td>425</td>\n",
       "      <td>1947879</td>\n",
       "    </tr>\n",
       "    <tr>\n",
       "      <th>3</th>\n",
       "      <td>Saturday</td>\n",
       "      <td>498</td>\n",
       "      <td>1900388</td>\n",
       "    </tr>\n",
       "    <tr>\n",
       "      <th>4</th>\n",
       "      <td>Monday</td>\n",
       "      <td>439</td>\n",
       "      <td>1871951</td>\n",
       "    </tr>\n",
       "    <tr>\n",
       "      <th>5</th>\n",
       "      <td>Thursday</td>\n",
       "      <td>423</td>\n",
       "      <td>1715406</td>\n",
       "    </tr>\n",
       "    <tr>\n",
       "      <th>6</th>\n",
       "      <td>Sunday</td>\n",
       "      <td>307</td>\n",
       "      <td>1267496</td>\n",
       "    </tr>\n",
       "  </tbody>\n",
       "</table>\n",
       "</div>"
      ],
      "text/plain": [
       "    Day_Name  count      sum\n",
       "0    Tuesday    520  2125361\n",
       "1  Wednesday    513  1981031\n",
       "2     Friday    425  1947879\n",
       "3   Saturday    498  1900388\n",
       "4     Monday    439  1871951\n",
       "5   Thursday    423  1715406\n",
       "6     Sunday    307  1267496"
      ]
     },
     "execution_count": 122,
     "metadata": {},
     "output_type": "execute_result"
    }
   ],
   "source": [
    "most_bribe_amount_days_week"
   ]
  },
  {
   "cell_type": "code",
   "execution_count": 124,
   "id": "94c22552",
   "metadata": {},
   "outputs": [
    {
     "data": {
      "text/plain": [
       "<AxesSubplot:xlabel='sum', ylabel='Day_Name'>"
      ]
     },
     "execution_count": 124,
     "metadata": {},
     "output_type": "execute_result"
    },
    {
     "data": {
      "image/png": "[encoded data removed]",
      "text/plain": [
       "<Figure size 720x432 with 1 Axes>"
      ]
     },
     "metadata": {},
     "output_type": "display_data"
    }
   ],
   "source": [
    "# Plotting bribe amount paid on all days of the week\n",
    "\n",
    "sns.barplot(x = most_bribe_amount_days_week['sum'],y=most_bribe_amount_days_week['Day_Name'])"
   ]
  },
  {
   "cell_type": "code",
   "execution_count": 125,
   "id": "bfe28184",
   "metadata": {},
   "outputs": [],
   "source": [
    "#group rows to find the amount of bribe year wise\n",
    "\n",
    "most_bribe_amount_days_year = df_day.groupby('Year')['Amount(INR)'].agg(['count','sum']).sort_values('sum',ascending =False)\n"
   ]
  },
  {
   "cell_type": "code",
   "execution_count": 126,
   "id": "5bb4f7ef",
   "metadata": {},
   "outputs": [],
   "source": [
    "most_bribe_amount_days_year.reset_index(inplace=True)"
   ]
  },
  {
   "cell_type": "code",
   "execution_count": 127,
   "id": "a148968c",
   "metadata": {},
   "outputs": [
    {
     "data": {
      "text/html": [
       "<div>\n",
       "<style scoped>\n",
       "    .dataframe tbody tr th:only-of-type {\n",
       "        vertical-align: middle;\n",
       "    }\n",
       "\n",
       "    .dataframe tbody tr th {\n",
       "        vertical-align: top;\n",
       "    }\n",
       "\n",
       "    .dataframe thead th {\n",
       "        text-align: right;\n",
       "    }\n",
       "</style>\n",
       "<table border=\"1\" class=\"dataframe\">\n",
       "  <thead>\n",
       "    <tr style=\"text-align: right;\">\n",
       "      <th></th>\n",
       "      <th>Year</th>\n",
       "      <th>count</th>\n",
       "      <th>sum</th>\n",
       "    </tr>\n",
       "  </thead>\n",
       "  <tbody>\n",
       "    <tr>\n",
       "      <th>0</th>\n",
       "      <td>2019</td>\n",
       "      <td>805</td>\n",
       "      <td>3435002</td>\n",
       "    </tr>\n",
       "    <tr>\n",
       "      <th>1</th>\n",
       "      <td>2016</td>\n",
       "      <td>870</td>\n",
       "      <td>3197636</td>\n",
       "    </tr>\n",
       "    <tr>\n",
       "      <th>2</th>\n",
       "      <td>2018</td>\n",
       "      <td>454</td>\n",
       "      <td>2188335</td>\n",
       "    </tr>\n",
       "    <tr>\n",
       "      <th>3</th>\n",
       "      <td>2017</td>\n",
       "      <td>505</td>\n",
       "      <td>2034136</td>\n",
       "    </tr>\n",
       "    <tr>\n",
       "      <th>4</th>\n",
       "      <td>2020</td>\n",
       "      <td>236</td>\n",
       "      <td>1135420</td>\n",
       "    </tr>\n",
       "  </tbody>\n",
       "</table>\n",
       "</div>"
      ],
      "text/plain": [
       "   Year  count      sum\n",
       "0  2019    805  3435002\n",
       "1  2016    870  3197636\n",
       "2  2018    454  2188335\n",
       "3  2017    505  2034136\n",
       "4  2020    236  1135420"
      ]
     },
     "execution_count": 127,
     "metadata": {},
     "output_type": "execute_result"
    }
   ],
   "source": [
    "most_bribe_amount_days_year.head()"
   ]
  },
  {
   "cell_type": "code",
   "execution_count": 129,
   "id": "cdf3727d",
   "metadata": {},
   "outputs": [
    {
     "data": {
      "text/plain": [
       "<AxesSubplot:xlabel='Year', ylabel='sum'>"
      ]
     },
     "execution_count": 129,
     "metadata": {},
     "output_type": "execute_result"
    },
    {
     "data": {
      "image/png": "[encoded data removed]",
      "text/plain": [
       "<Figure size 720x432 with 1 Axes>"
      ]
     },
     "metadata": {},
     "output_type": "display_data"
    }
   ],
   "source": [
    "# Plotting bribe amount paid year-wise\n",
    "\n",
    "sns.barplot(y = most_bribe_amount_days_year['sum'],x=most_bribe_amount_days_year['Year'])"
   ]
  },
  {
   "cell_type": "code",
   "execution_count": null,
   "id": "4c1e3864",
   "metadata": {},
   "outputs": [],
   "source": [
    "# Conclusion\n",
    "\n",
    "# As per the analysis of given bribe data, Bangalore, Karnatake tops the bribe collection and the unidentified department\n",
    "# \"Others\" tops the list followed by police verification for passport. On comparing the mean value of departmants,\n",
    "# Income Tax, Filing tax returns, Migration certificate, Drugs License stands at the top. Looking at the date-wise\n",
    "# bribe report, 11th day of the month and Tuesday's and year 2019 was paid higher bribe. \n",
    "\n",
    "# It is recommended to act upon decreasing the bribe collection by enforcement and bribe surveillance using the insights \n",
    "# from this report.\n"
   ]
  }
 ],
 "metadata": {
  "kernelspec": {
   "display_name": "Python 3 (ipykernel)",
   "language": "python",
   "name": "python3"
  },
  "language_info": {
   "codemirror_mode": {
    "name": "ipython",
    "version": 3
   },
   "file_extension": ".py",
   "mimetype": "text/x-python",
   "name": "python",
   "nbconvert_exporter": "python",
   "pygments_lexer": "ipython3",
   "version": "3.9.12"
  }
 },
 "nbformat": 4,
 "nbformat_minor": 5
}
